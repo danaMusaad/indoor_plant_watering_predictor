{
 "cells": [
  {
   "cell_type": "code",
   "execution_count": 1,
   "id": "f26263b7-263a-4dc8-a639-f62c44e889fd",
   "metadata": {
    "execution": {
     "iopub.execute_input": "2025-10-21T10:49:45.792093Z",
     "iopub.status.busy": "2025-10-21T10:49:45.742977Z",
     "iopub.status.idle": "2025-10-21T10:49:50.239411Z",
     "shell.execute_reply": "2025-10-21T10:49:50.219903Z",
     "shell.execute_reply.started": "2025-10-21T10:49:45.787128Z"
    }
   },
   "outputs": [],
   "source": [
    "import pandas as pd"
   ]
  },
  {
   "cell_type": "code",
   "execution_count": 44,
   "id": "277f51f6-2145-484b-bd98-bd31bbac20c5",
   "metadata": {
    "execution": {
     "iopub.execute_input": "2025-10-21T11:19:29.527621Z",
     "iopub.status.busy": "2025-10-21T11:19:29.447096Z",
     "iopub.status.idle": "2025-10-21T11:19:31.049934Z",
     "shell.execute_reply": "2025-10-21T11:19:31.023788Z",
     "shell.execute_reply.started": "2025-10-21T11:19:29.525014Z"
    }
   },
   "outputs": [],
   "source": [
    "df = pd.read_json('house_plants.json')\n",
    "data = pd.DataFrame(df)"
   ]
  },
  {
   "cell_type": "code",
   "execution_count": 45,
   "id": "08ba0fc5-eff2-4926-9f63-7da9875851b3",
   "metadata": {
    "execution": {
     "iopub.execute_input": "2025-10-21T11:19:32.447864Z",
     "iopub.status.busy": "2025-10-21T11:19:32.446787Z",
     "iopub.status.idle": "2025-10-21T11:19:33.246380Z",
     "shell.execute_reply": "2025-10-21T11:19:33.233636Z",
     "shell.execute_reply.started": "2025-10-21T11:19:32.447770Z"
    }
   },
   "outputs": [
    {
     "data": {
      "text/html": [
       "<div>\n",
       "<style scoped>\n",
       "    .dataframe tbody tr th:only-of-type {\n",
       "        vertical-align: middle;\n",
       "    }\n",
       "\n",
       "    .dataframe tbody tr th {\n",
       "        vertical-align: top;\n",
       "    }\n",
       "\n",
       "    .dataframe thead th {\n",
       "        text-align: right;\n",
       "    }\n",
       "</style>\n",
       "<table border=\"1\" class=\"dataframe\">\n",
       "  <thead>\n",
       "    <tr style=\"text-align: right;\">\n",
       "      <th></th>\n",
       "      <th>id</th>\n",
       "      <th>latin</th>\n",
       "      <th>family</th>\n",
       "      <th>common</th>\n",
       "      <th>category</th>\n",
       "      <th>origin</th>\n",
       "      <th>climate</th>\n",
       "      <th>tempmax</th>\n",
       "      <th>tempmin</th>\n",
       "      <th>ideallight</th>\n",
       "      <th>toleratedlight</th>\n",
       "      <th>watering</th>\n",
       "      <th>insects</th>\n",
       "      <th>diseases</th>\n",
       "      <th>use</th>\n",
       "    </tr>\n",
       "  </thead>\n",
       "  <tbody>\n",
       "    <tr>\n",
       "      <th>0</th>\n",
       "      <td>0</td>\n",
       "      <td>Aeschynanthus lobianus</td>\n",
       "      <td>Gesneriaceae</td>\n",
       "      <td>[Lipstick]</td>\n",
       "      <td>Hanging</td>\n",
       "      <td>Java</td>\n",
       "      <td>Tropical</td>\n",
       "      <td>{'celsius': 32, 'fahrenheit': 89.6}</td>\n",
       "      <td>{'celsius': 14, 'fahrenheit': 57.2}</td>\n",
       "      <td>Bright light</td>\n",
       "      <td>Direct sunlight</td>\n",
       "      <td>Keep moist between watering. Can be a bit dry ...</td>\n",
       "      <td>[Mealy bug, Aphid, Thrips]</td>\n",
       "      <td>N/A</td>\n",
       "      <td>[Hanging, Flower, Tertiary]</td>\n",
       "    </tr>\n",
       "    <tr>\n",
       "      <th>1</th>\n",
       "      <td>1</td>\n",
       "      <td>Adiantum raddianum</td>\n",
       "      <td>Polypodiaceae</td>\n",
       "      <td>[Maindenhair, Delta maidenhair]</td>\n",
       "      <td>Fern</td>\n",
       "      <td>Brazil</td>\n",
       "      <td>Tropical</td>\n",
       "      <td>{'celsius': 30, 'fahrenheit': 86}</td>\n",
       "      <td>{'celsius': 12, 'fahrenheit': 53.6}</td>\n",
       "      <td>Bright light</td>\n",
       "      <td>Diffused</td>\n",
       "      <td>Keep moist between watering. Must not be dry b...</td>\n",
       "      <td>[Mealy bug, Aphid, Snail]</td>\n",
       "      <td>Gray mold</td>\n",
       "      <td>[Potted plant, Ground cover, Table top]</td>\n",
       "    </tr>\n",
       "    <tr>\n",
       "      <th>2</th>\n",
       "      <td>2</td>\n",
       "      <td>Aechmea fatsiata</td>\n",
       "      <td>Bromeliaceae</td>\n",
       "      <td>[Silver vase]</td>\n",
       "      <td>Bromeliad</td>\n",
       "      <td>Brazil</td>\n",
       "      <td>Tropical humid</td>\n",
       "      <td>{'celsius': 30, 'fahrenheit': 20}</td>\n",
       "      <td>{'celsius': 12, 'fahrenheit': 53.6}</td>\n",
       "      <td>Bright light</td>\n",
       "      <td>Diffused</td>\n",
       "      <td>Water when soil is half dry. Change water in t...</td>\n",
       "      <td>N/A</td>\n",
       "      <td>N/A</td>\n",
       "      <td>[Flower, Table top, Tertiary]</td>\n",
       "    </tr>\n",
       "    <tr>\n",
       "      <th>3</th>\n",
       "      <td>3</td>\n",
       "      <td>Agave angustilolia Marginata</td>\n",
       "      <td>Amaryllidaceae</td>\n",
       "      <td>[Variegated Carabbean Agave, Century plant]</td>\n",
       "      <td>Cactus And Succulent</td>\n",
       "      <td>India</td>\n",
       "      <td>Tropical</td>\n",
       "      <td>{'celsius': 35, 'fahrenheit': 95}</td>\n",
       "      <td>{'celsius': 5, 'fahrenheit': 41}</td>\n",
       "      <td>6 or more hours of direct sunlight per day.</td>\n",
       "      <td>Direct sunlight.</td>\n",
       "      <td>Water only when the soil is dry. Must be dry b...</td>\n",
       "      <td>[Scale, Mealy bug]</td>\n",
       "      <td>N/A</td>\n",
       "      <td>[Potted plant, Primary, Secondary]</td>\n",
       "    </tr>\n",
       "    <tr>\n",
       "      <th>4</th>\n",
       "      <td>4</td>\n",
       "      <td>Aechmea ramosa</td>\n",
       "      <td>Bromeliaceae</td>\n",
       "      <td>[Coral berry]</td>\n",
       "      <td>Bromeliad</td>\n",
       "      <td>Brazil</td>\n",
       "      <td>Subtropical</td>\n",
       "      <td>{'celsius': 30, 'fahrenheit': 20}</td>\n",
       "      <td>{'celsius': 12, 'fahrenheit': 53.6}</td>\n",
       "      <td>Bright light</td>\n",
       "      <td>Diffused</td>\n",
       "      <td>Water when soil is half dry. Change water in t...</td>\n",
       "      <td>N/A</td>\n",
       "      <td>N/A</td>\n",
       "      <td>[Flower, Table top, Primary]</td>\n",
       "    </tr>\n",
       "  </tbody>\n",
       "</table>\n",
       "</div>"
      ],
      "text/plain": [
       "   id                         latin          family  \\\n",
       "0   0        Aeschynanthus lobianus    Gesneriaceae   \n",
       "1   1            Adiantum raddianum   Polypodiaceae   \n",
       "2   2              Aechmea fatsiata    Bromeliaceae   \n",
       "3   3  Agave angustilolia Marginata  Amaryllidaceae   \n",
       "4   4                Aechmea ramosa    Bromeliaceae   \n",
       "\n",
       "                                        common              category  origin  \\\n",
       "0                                   [Lipstick]               Hanging    Java   \n",
       "1              [Maindenhair, Delta maidenhair]                  Fern  Brazil   \n",
       "2                                [Silver vase]             Bromeliad  Brazil   \n",
       "3  [Variegated Carabbean Agave, Century plant]  Cactus And Succulent   India   \n",
       "4                                [Coral berry]             Bromeliad  Brazil   \n",
       "\n",
       "          climate                              tempmax  \\\n",
       "0        Tropical  {'celsius': 32, 'fahrenheit': 89.6}   \n",
       "1        Tropical    {'celsius': 30, 'fahrenheit': 86}   \n",
       "2  Tropical humid    {'celsius': 30, 'fahrenheit': 20}   \n",
       "3        Tropical    {'celsius': 35, 'fahrenheit': 95}   \n",
       "4     Subtropical    {'celsius': 30, 'fahrenheit': 20}   \n",
       "\n",
       "                               tempmin  \\\n",
       "0  {'celsius': 14, 'fahrenheit': 57.2}   \n",
       "1  {'celsius': 12, 'fahrenheit': 53.6}   \n",
       "2  {'celsius': 12, 'fahrenheit': 53.6}   \n",
       "3     {'celsius': 5, 'fahrenheit': 41}   \n",
       "4  {'celsius': 12, 'fahrenheit': 53.6}   \n",
       "\n",
       "                                    ideallight    toleratedlight  \\\n",
       "0                                 Bright light   Direct sunlight   \n",
       "1                                 Bright light          Diffused   \n",
       "2                                 Bright light          Diffused   \n",
       "3  6 or more hours of direct sunlight per day.  Direct sunlight.   \n",
       "4                                 Bright light          Diffused   \n",
       "\n",
       "                                            watering  \\\n",
       "0  Keep moist between watering. Can be a bit dry ...   \n",
       "1  Keep moist between watering. Must not be dry b...   \n",
       "2  Water when soil is half dry. Change water in t...   \n",
       "3  Water only when the soil is dry. Must be dry b...   \n",
       "4  Water when soil is half dry. Change water in t...   \n",
       "\n",
       "                      insects   diseases  \\\n",
       "0  [Mealy bug, Aphid, Thrips]        N/A   \n",
       "1   [Mealy bug, Aphid, Snail]  Gray mold   \n",
       "2                         N/A        N/A   \n",
       "3          [Scale, Mealy bug]        N/A   \n",
       "4                         N/A        N/A   \n",
       "\n",
       "                                       use  \n",
       "0              [Hanging, Flower, Tertiary]  \n",
       "1  [Potted plant, Ground cover, Table top]  \n",
       "2            [Flower, Table top, Tertiary]  \n",
       "3       [Potted plant, Primary, Secondary]  \n",
       "4             [Flower, Table top, Primary]  "
      ]
     },
     "execution_count": 45,
     "metadata": {},
     "output_type": "execute_result"
    }
   ],
   "source": [
    "data.head()"
   ]
  },
  {
   "cell_type": "code",
   "execution_count": 46,
   "id": "ac7e89be-4635-4ce0-9318-db29804f99b4",
   "metadata": {
    "execution": {
     "iopub.execute_input": "2025-10-21T11:19:37.847721Z",
     "iopub.status.busy": "2025-10-21T11:19:37.845826Z",
     "iopub.status.idle": "2025-10-21T11:19:38.299834Z",
     "shell.execute_reply": "2025-10-21T11:19:38.289404Z",
     "shell.execute_reply.started": "2025-10-21T11:19:37.847618Z"
    }
   },
   "outputs": [
    {
     "name": "stdout",
     "output_type": "stream",
     "text": [
      "<class 'pandas.core.frame.DataFrame'>\n",
      "RangeIndex: 209 entries, 0 to 208\n",
      "Data columns (total 15 columns):\n",
      " #   Column          Non-Null Count  Dtype \n",
      "---  ------          --------------  ----- \n",
      " 0   id              209 non-null    int64 \n",
      " 1   latin           209 non-null    object\n",
      " 2   family          209 non-null    object\n",
      " 3   common          209 non-null    object\n",
      " 4   category        209 non-null    object\n",
      " 5   origin          209 non-null    object\n",
      " 6   climate         209 non-null    object\n",
      " 7   tempmax         209 non-null    object\n",
      " 8   tempmin         209 non-null    object\n",
      " 9   ideallight      209 non-null    object\n",
      " 10  toleratedlight  209 non-null    object\n",
      " 11  watering        209 non-null    object\n",
      " 12  insects         209 non-null    object\n",
      " 13  diseases        209 non-null    object\n",
      " 14  use             209 non-null    object\n",
      "dtypes: int64(1), object(14)\n",
      "memory usage: 24.6+ KB\n"
     ]
    }
   ],
   "source": [
    "data.info()"
   ]
  },
  {
   "cell_type": "code",
   "execution_count": 47,
   "id": "5a3f1994-877e-4e22-92db-dcc5ecfcb81a",
   "metadata": {
    "execution": {
     "iopub.execute_input": "2025-10-21T11:19:39.058081Z",
     "iopub.status.busy": "2025-10-21T11:19:39.057382Z",
     "iopub.status.idle": "2025-10-21T11:19:39.095474Z",
     "shell.execute_reply": "2025-10-21T11:19:39.085325Z",
     "shell.execute_reply.started": "2025-10-21T11:19:39.058032Z"
    }
   },
   "outputs": [
    {
     "data": {
      "text/plain": [
       "(209, 15)"
      ]
     },
     "execution_count": 47,
     "metadata": {},
     "output_type": "execute_result"
    }
   ],
   "source": [
    "data.shape"
   ]
  },
  {
   "cell_type": "code",
   "execution_count": 48,
   "id": "3293a75b-9b96-48ce-ab8f-a6d14482e8a3",
   "metadata": {
    "execution": {
     "iopub.execute_input": "2025-10-21T11:19:39.827510Z",
     "iopub.status.busy": "2025-10-21T11:19:39.826319Z",
     "iopub.status.idle": "2025-10-21T11:19:39.890556Z",
     "shell.execute_reply": "2025-10-21T11:19:39.883892Z",
     "shell.execute_reply.started": "2025-10-21T11:19:39.827390Z"
    }
   },
   "outputs": [
    {
     "data": {
      "text/plain": [
       "<bound method Series.unique of 0                                       [Lipstick]\n",
       "1                  [Maindenhair, Delta maidenhair]\n",
       "2                                    [Silver vase]\n",
       "3      [Variegated Carabbean Agave, Century plant]\n",
       "4                                    [Coral berry]\n",
       "                          ...                     \n",
       "204                                   [Peace lily]\n",
       "205    [Hawaiian elf, Parasol plant, Gold Cappela]\n",
       "206                       [White bird of paradise]\n",
       "207                                     [Zz plant]\n",
       "208                   [Spineless yucca, Palm lily]\n",
       "Name: common, Length: 209, dtype: object>"
      ]
     },
     "execution_count": 48,
     "metadata": {},
     "output_type": "execute_result"
    }
   ],
   "source": [
    "data['common'].unique"
   ]
  },
  {
   "cell_type": "code",
   "execution_count": 49,
   "id": "34c35506-5b8d-4cd4-98e7-efb37251afa1",
   "metadata": {
    "execution": {
     "iopub.execute_input": "2025-10-21T11:19:40.475196Z",
     "iopub.status.busy": "2025-10-21T11:19:40.473867Z",
     "iopub.status.idle": "2025-10-21T11:19:40.572026Z",
     "shell.execute_reply": "2025-10-21T11:19:40.564666Z",
     "shell.execute_reply.started": "2025-10-21T11:19:40.475073Z"
    }
   },
   "outputs": [
    {
     "data": {
      "text/plain": [
       "common\n",
       "[]                                             15\n",
       "[Peace lily]                                    7\n",
       "[Elephant ear]                                  4\n",
       "[Bird nest Anthurium, Cabbage Anthurium]        3\n",
       "[Snake plant]                                   3\n",
       "                                               ..\n",
       "[Peace lily, Emerald Swirl]                     1\n",
       "[Hawaiian elf, Parasol plant, Gold Cappela]     1\n",
       "[White bird of paradise]                        1\n",
       "[Zz plant]                                      1\n",
       "[Spineless yucca, Palm lily]                    1\n",
       "Name: count, Length: 176, dtype: int64"
      ]
     },
     "execution_count": 49,
     "metadata": {},
     "output_type": "execute_result"
    }
   ],
   "source": [
    "data['common'].value_counts()"
   ]
  },
  {
   "cell_type": "code",
   "execution_count": 50,
   "id": "6cae9d3f-0cf7-4507-9b10-325ce9076543",
   "metadata": {
    "execution": {
     "iopub.execute_input": "2025-10-21T11:19:41.005061Z",
     "iopub.status.busy": "2025-10-21T11:19:41.003311Z",
     "iopub.status.idle": "2025-10-21T11:19:41.102083Z",
     "shell.execute_reply": "2025-10-21T11:19:41.092435Z",
     "shell.execute_reply.started": "2025-10-21T11:19:41.004988Z"
    }
   },
   "outputs": [
    {
     "data": {
      "text/plain": [
       "np.int64(33)"
      ]
     },
     "execution_count": 50,
     "metadata": {},
     "output_type": "execute_result"
    }
   ],
   "source": [
    "data['common']=data['common'].astype(str)\n",
    "data['common'].duplicated().sum()"
   ]
  },
  {
   "cell_type": "code",
   "execution_count": 51,
   "id": "21f8e594-f796-4565-97f4-0102772fee74",
   "metadata": {
    "execution": {
     "iopub.execute_input": "2025-10-21T11:19:41.573500Z",
     "iopub.status.busy": "2025-10-21T11:19:41.572207Z",
     "iopub.status.idle": "2025-10-21T11:19:41.647434Z",
     "shell.execute_reply": "2025-10-21T11:19:41.636700Z",
     "shell.execute_reply.started": "2025-10-21T11:19:41.573401Z"
    }
   },
   "outputs": [
    {
     "data": {
      "text/plain": [
       "id                0\n",
       "latin             0\n",
       "family            0\n",
       "common            0\n",
       "category          0\n",
       "origin            0\n",
       "climate           0\n",
       "tempmax           0\n",
       "tempmin           0\n",
       "ideallight        0\n",
       "toleratedlight    0\n",
       "watering          0\n",
       "insects           0\n",
       "diseases          0\n",
       "use               0\n",
       "dtype: int64"
      ]
     },
     "execution_count": 51,
     "metadata": {},
     "output_type": "execute_result"
    }
   ],
   "source": [
    "data.isnull().sum()"
   ]
  },
  {
   "cell_type": "code",
   "execution_count": 52,
   "id": "b83e6330-7de9-4696-aae4-64ed2c070af0",
   "metadata": {
    "execution": {
     "iopub.execute_input": "2025-10-21T11:19:42.216079Z",
     "iopub.status.busy": "2025-10-21T11:19:42.215108Z",
     "iopub.status.idle": "2025-10-21T11:19:42.275611Z",
     "shell.execute_reply": "2025-10-21T11:19:42.274355Z",
     "shell.execute_reply.started": "2025-10-21T11:19:42.215992Z"
    }
   },
   "outputs": [],
   "source": [
    "data['diseases']=data['diseases'].astype(str)"
   ]
  },
  {
   "cell_type": "code",
   "execution_count": 53,
   "id": "6bd4b74c-614e-4534-a37b-009f0eeaac8d",
   "metadata": {
    "execution": {
     "iopub.execute_input": "2025-10-21T11:19:43.160085Z",
     "iopub.status.busy": "2025-10-21T11:19:43.158504Z",
     "iopub.status.idle": "2025-10-21T11:19:43.363650Z",
     "shell.execute_reply": "2025-10-21T11:19:43.358194Z",
     "shell.execute_reply.started": "2025-10-21T11:19:43.159923Z"
    }
   },
   "outputs": [
    {
     "data": {
      "text/plain": [
       "np.int64(147)"
      ]
     },
     "execution_count": 53,
     "metadata": {},
     "output_type": "execute_result"
    }
   ],
   "source": [
    "data['diseases'].value_counts().get('N/A', 0)"
   ]
  },
  {
   "cell_type": "code",
   "execution_count": 54,
   "id": "5ede9d16-4cd7-42ee-9ced-08b6dab5f982",
   "metadata": {
    "execution": {
     "iopub.execute_input": "2025-10-21T11:20:15.435674Z",
     "iopub.status.busy": "2025-10-21T11:20:15.429183Z",
     "iopub.status.idle": "2025-10-21T11:20:15.597369Z",
     "shell.execute_reply": "2025-10-21T11:20:15.590221Z",
     "shell.execute_reply.started": "2025-10-21T11:20:15.435123Z"
    }
   },
   "outputs": [
    {
     "data": {
      "text/plain": [
       "np.int64(205)"
      ]
     },
     "execution_count": 54,
     "metadata": {},
     "output_type": "execute_result"
    }
   ],
   "source": [
    "data['toleratedlight'].duplicated().sum()"
   ]
  },
  {
   "cell_type": "code",
   "execution_count": 68,
   "id": "70690dae-5d06-4686-be7e-05ae7d2183ea",
   "metadata": {
    "execution": {
     "iopub.execute_input": "2025-10-21T11:29:19.502018Z",
     "iopub.status.busy": "2025-10-21T11:29:19.500521Z",
     "iopub.status.idle": "2025-10-21T11:29:20.725096Z",
     "shell.execute_reply": "2025-10-21T11:29:20.708929Z",
     "shell.execute_reply.started": "2025-10-21T11:29:19.501944Z"
    }
   },
   "outputs": [
    {
     "data": {
      "text/plain": [
       "<bound method DataFrame.duplicated of       id                         latin          family  \\\n",
       "0      0        Aeschynanthus lobianus    Gesneriaceae   \n",
       "1      1            Adiantum raddianum   Polypodiaceae   \n",
       "2      2              Aechmea fatsiata    Bromeliaceae   \n",
       "3      3  Agave angustilolia Marginata  Amaryllidaceae   \n",
       "4      4                Aechmea ramosa    Bromeliaceae   \n",
       "..   ...                           ...             ...   \n",
       "204  204       Spathiphyllum Starlight         Araceae   \n",
       "205  205         Schefflera arboricola      Araliaceae   \n",
       "206  206            Strelitzia nicolai  Strelitziaceae   \n",
       "207  207         Zamioculcas zamifolia         Araceae   \n",
       "208  208            Yucca elephantipes       Liliaceae   \n",
       "\n",
       "                                                common              category  \\\n",
       "0                                         ['Lipstick']               Hanging   \n",
       "1                  ['Maindenhair', 'Delta maidenhair']                  Fern   \n",
       "2                                      ['Silver vase']             Bromeliad   \n",
       "3      ['Variegated Carabbean Agave', 'Century plant']  Cactus And Succulent   \n",
       "4                                      ['Coral berry']             Bromeliad   \n",
       "..                                                 ...                   ...   \n",
       "204                                     ['Peace lily']         Spathiphyllum   \n",
       "205  ['Hawaiian elf', 'Parasol plant', 'Gold Cappela']            Schefflera   \n",
       "206                         ['White bird of paradise']         Foliage plant   \n",
       "207                                       ['Zz plant']         Foliage plant   \n",
       "208                   ['Spineless yucca', 'Palm lily']              Dracaena   \n",
       "\n",
       "           origin         climate                              tempmax  \\\n",
       "0            Java        Tropical  {'celsius': 32, 'fahrenheit': 89.6}   \n",
       "1          Brazil        Tropical    {'celsius': 30, 'fahrenheit': 86}   \n",
       "2          Brazil  Tropical humid    {'celsius': 30, 'fahrenheit': 20}   \n",
       "3           India        Tropical    {'celsius': 35, 'fahrenheit': 95}   \n",
       "4          Brazil     Subtropical    {'celsius': 30, 'fahrenheit': 20}   \n",
       "..            ...             ...                                  ...   \n",
       "204      Cultivar        Tropical  {'celsius': 28, 'fahrenheit': 82.4}   \n",
       "205      Cultivar        Tropical    {'celsius': 30, 'fahrenheit': 20}   \n",
       "206  South Africa     Subtropical    {'celsius': 30, 'fahrenheit': 20}   \n",
       "207  South Africa        Tropical    {'celsius': 30, 'fahrenheit': 20}   \n",
       "208        Mexico     Subtropical    {'celsius': 30, 'fahrenheit': 20}   \n",
       "\n",
       "                                 tempmin  \\\n",
       "0    {'celsius': 14, 'fahrenheit': 57.2}   \n",
       "1    {'celsius': 12, 'fahrenheit': 53.6}   \n",
       "2    {'celsius': 12, 'fahrenheit': 53.6}   \n",
       "3       {'celsius': 5, 'fahrenheit': 41}   \n",
       "4    {'celsius': 12, 'fahrenheit': 53.6}   \n",
       "..                                   ...   \n",
       "204    {'celsius': 15, 'fahrenheit': 59}   \n",
       "205  {'celsius': 12, 'fahrenheit': 53.6}   \n",
       "206  {'celsius': 12, 'fahrenheit': 53.6}   \n",
       "207  {'celsius': 12, 'fahrenheit': 53.6}   \n",
       "208  {'celsius': 12, 'fahrenheit': 53.6}   \n",
       "\n",
       "                                      ideallight    toleratedlight  \\\n",
       "0                                   Bright light   Direct sunlight   \n",
       "1                                   Bright light          Diffused   \n",
       "2                                   Bright light          Diffused   \n",
       "3    6 or more hours of direct sunlight per day.  Direct sunlight.   \n",
       "4                                   Bright light          Diffused   \n",
       "..                                           ...               ...   \n",
       "204                                 Bright light          Diffused   \n",
       "205  6 or more hours of direct sunlight per day.  Direct sunlight.   \n",
       "206  6 or more hours of direct sunlight per day.  Direct sunlight.   \n",
       "207                                 Bright light          Diffused   \n",
       "208  6 or more hours of direct sunlight per day.  Direct sunlight.   \n",
       "\n",
       "                                              watering  \\\n",
       "0    Keep moist between watering. Can be a bit dry ...   \n",
       "1    Keep moist between watering. Must not be dry b...   \n",
       "2    Water when soil is half dry. Change water in t...   \n",
       "3    Water only when the soil is dry. Must be dry b...   \n",
       "4    Water when soil is half dry. Change water in t...   \n",
       "..                                                 ...   \n",
       "204  Keep moist between watering. Must not be dry b...   \n",
       "205  Keep moist between watering. Water when soil i...   \n",
       "206  Keep moist between watering. Water when soil i...   \n",
       "207  Keep moist between watering. Water when soil i...   \n",
       "208  Keep moist between watering. Water when soil i...   \n",
       "\n",
       "                             insects       diseases  \\\n",
       "0         [Mealy bug, Aphid, Thrips]            N/A   \n",
       "1          [Mealy bug, Aphid, Snail]      Gray mold   \n",
       "2                                N/A            N/A   \n",
       "3                 [Scale, Mealy bug]            N/A   \n",
       "4                                N/A            N/A   \n",
       "..                               ...            ...   \n",
       "204              [Mealy bug, Thrips]    Phytophtora   \n",
       "205  [Spider mite, Aphid, Mealy bug]            N/A   \n",
       "206         [Spider mite, Mealy bug]            N/A   \n",
       "207                              N/A            N/A   \n",
       "208                              N/A  Downy mildiou   \n",
       "\n",
       "                                         use  \n",
       "0                [Hanging, Flower, Tertiary]  \n",
       "1    [Potted plant, Ground cover, Table top]  \n",
       "2              [Flower, Table top, Tertiary]  \n",
       "3         [Potted plant, Primary, Secondary]  \n",
       "4               [Flower, Table top, Primary]  \n",
       "..                                       ...  \n",
       "204                    [Table top, Tertiary]  \n",
       "205                [Potted plant, Secondary]  \n",
       "206                    [Table top, Tertiary]  \n",
       "207                   [Table top, Secondary]  \n",
       "208                [Potted plant, Secondary]  \n",
       "\n",
       "[209 rows x 15 columns]>"
      ]
     },
     "execution_count": 68,
     "metadata": {},
     "output_type": "execute_result"
    }
   ],
   "source": [
    "data.duplicated"
   ]
  },
  {
   "cell_type": "code",
   "execution_count": 70,
   "id": "9d3ec1d3-5c95-44bf-87aa-bbbe0dfdb3ef",
   "metadata": {
    "execution": {
     "iopub.execute_input": "2025-10-21T11:30:50.760441Z",
     "iopub.status.busy": "2025-10-21T11:30:50.758903Z",
     "iopub.status.idle": "2025-10-21T11:30:51.432725Z",
     "shell.execute_reply": "2025-10-21T11:30:51.430054Z",
     "shell.execute_reply.started": "2025-10-21T11:30:50.760361Z"
    }
   },
   "outputs": [
    {
     "data": {
      "text/html": [
       "<div>\n",
       "<style scoped>\n",
       "    .dataframe tbody tr th:only-of-type {\n",
       "        vertical-align: middle;\n",
       "    }\n",
       "\n",
       "    .dataframe tbody tr th {\n",
       "        vertical-align: top;\n",
       "    }\n",
       "\n",
       "    .dataframe thead th {\n",
       "        text-align: right;\n",
       "    }\n",
       "</style>\n",
       "<table border=\"1\" class=\"dataframe\">\n",
       "  <thead>\n",
       "    <tr style=\"text-align: right;\">\n",
       "      <th></th>\n",
       "      <th>id</th>\n",
       "    </tr>\n",
       "  </thead>\n",
       "  <tbody>\n",
       "    <tr>\n",
       "      <th>count</th>\n",
       "      <td>209.000000</td>\n",
       "    </tr>\n",
       "    <tr>\n",
       "      <th>mean</th>\n",
       "      <td>104.000000</td>\n",
       "    </tr>\n",
       "    <tr>\n",
       "      <th>std</th>\n",
       "      <td>60.477268</td>\n",
       "    </tr>\n",
       "    <tr>\n",
       "      <th>min</th>\n",
       "      <td>0.000000</td>\n",
       "    </tr>\n",
       "    <tr>\n",
       "      <th>25%</th>\n",
       "      <td>52.000000</td>\n",
       "    </tr>\n",
       "    <tr>\n",
       "      <th>50%</th>\n",
       "      <td>104.000000</td>\n",
       "    </tr>\n",
       "    <tr>\n",
       "      <th>75%</th>\n",
       "      <td>156.000000</td>\n",
       "    </tr>\n",
       "    <tr>\n",
       "      <th>max</th>\n",
       "      <td>208.000000</td>\n",
       "    </tr>\n",
       "  </tbody>\n",
       "</table>\n",
       "</div>"
      ],
      "text/plain": [
       "               id\n",
       "count  209.000000\n",
       "mean   104.000000\n",
       "std     60.477268\n",
       "min      0.000000\n",
       "25%     52.000000\n",
       "50%    104.000000\n",
       "75%    156.000000\n",
       "max    208.000000"
      ]
     },
     "execution_count": 70,
     "metadata": {},
     "output_type": "execute_result"
    }
   ],
   "source": [
    "data.describe()"
   ]
  },
  {
   "cell_type": "code",
   "execution_count": 71,
   "id": "358ad4e2-b872-43b5-b8c5-92e42d0a9cfc",
   "metadata": {
    "execution": {
     "iopub.execute_input": "2025-10-21T11:51:12.401028Z",
     "iopub.status.busy": "2025-10-21T11:51:12.287084Z",
     "iopub.status.idle": "2025-10-21T11:51:20.207898Z",
     "shell.execute_reply": "2025-10-21T11:51:20.202541Z",
     "shell.execute_reply.started": "2025-10-21T11:51:12.399489Z"
    }
   },
   "outputs": [],
   "source": [
    "import seaborn as sns"
   ]
  },
  {
   "cell_type": "code",
   "execution_count": 75,
   "id": "85d1d7d9-9f43-4914-bc1a-b2c8bca291f1",
   "metadata": {
    "execution": {
     "iopub.execute_input": "2025-10-21T11:52:55.566080Z",
     "iopub.status.busy": "2025-10-21T11:52:55.563846Z",
     "iopub.status.idle": "2025-10-21T11:52:56.307030Z",
     "shell.execute_reply": "2025-10-21T11:52:56.302566Z",
     "shell.execute_reply.started": "2025-10-21T11:52:55.566000Z"
    }
   },
   "outputs": [
    {
     "data": {
      "text/plain": [
       "array([[<Axes: title={'center': 'id'}>]], dtype=object)"
      ]
     },
     "execution_count": 75,
     "metadata": {},
     "output_type": "execute_result"
    },
    {
     "data": {
      "image/png": "[encoded data removed]",
      "text/plain": [
       "<Figure size 1400x1000 with 1 Axes>"
      ]
     },
     "metadata": {},
     "output_type": "display_data"
    }
   ],
   "source": [
    "data.hist(figsize=(14,10))"
   ]
  }
 ],
 "metadata": {
  "kernelspec": {
   "display_name": "Python 3 (ipykernel)",
   "language": "python",
   "name": "python3"
  },
  "language_info": {
   "codemirror_mode": {
    "name": "ipython",
    "version": 3
   },
   "file_extension": ".py",
   "mimetype": "text/x-python",
   "name": "python",
   "nbconvert_exporter": "python",
   "pygments_lexer": "ipython3",
   "version": "3.10.6"
  }
 },
 "nbformat": 4,
 "nbformat_minor": 5
}
